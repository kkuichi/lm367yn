{
 "cells": [
  {
   "cell_type": "markdown",
   "id": "330db749-2a45-4dee-b566-a018d378ba95",
   "metadata": {},
   "source": [
    "# Technical Params"
   ]
  },
  {
   "cell_type": "code",
   "execution_count": null,
   "id": "d6aaa708",
   "metadata": {},
   "outputs": [],
   "source": [
    "!pip install thop\n",
    "!pip install fvcore"
   ]
  },
  {
   "cell_type": "code",
   "execution_count": null,
   "id": "a6dce827",
   "metadata": {},
   "outputs": [],
   "source": [
    "import torch\n",
    "import torch.nn as nn\n",
    "import timm\n",
    "\n",
    "from ultralytics import YOLO\n",
    "from thop import profile"
   ]
  },
  {
   "cell_type": "code",
   "execution_count": null,
   "id": "0410f4db-e0b9-4312-932c-6ab27ef81a74",
   "metadata": {},
   "outputs": [
    {
     "name": "stdout",
     "output_type": "stream",
     "text": [
      "<class 'ultralytics.nn.tasks.DetectionModel'>\n"
     ]
    }
   ],
   "source": [
    "model_path = \"/home/jovyan/data/lightning/LiviaMurankova/new/namnozene_meteory/najlepsie_modely/najlepsie_modely/yolov12_vacsie_obrazky.pt\"\n",
    "model = YOLO(model_path)\n",
    "\n",
    "#print(model)\n",
    "#print(model.model)\n",
    "print(model.model.__class__)\n"
   ]
  },
  {
   "cell_type": "code",
   "execution_count": null,
   "id": "b35b6bd6-1541-4066-ab47-9ab02ff11e07",
   "metadata": {},
   "outputs": [
    {
     "name": "stdout",
     "output_type": "stream",
     "text": [
      "dict_keys(['date', 'version', 'license', 'docs', 'epoch', 'best_fitness', 'model', 'ema', 'updates', 'optimizer', 'train_args', 'train_metrics', 'train_results'])\n"
     ]
    }
   ],
   "source": [
    "# yolov12\n",
    "\n",
    "model = torch.load(\"/home/jovyan/data/lightning/LiviaMurankova/new/namnozene_meteory/najlepsie_modely/najlepsie_modely/yolov12_vacsie_obrazky.pt\", map_location=torch.device(\"cpu\"))\n",
    "print(model.keys()) "
   ]
  },
  {
   "cell_type": "code",
   "execution_count": 54,
   "id": "4b6c9222-1933-4176-9b3b-01319bc20c36",
   "metadata": {},
   "outputs": [
    {
     "name": "stdout",
     "output_type": "stream",
     "text": [
      "{'task': 'detect', 'mode': 'train', 'model': 'runs/detect/roboflow_train/weights/best.cache.pt', 'data': '/train/cache/dataset/data.yaml', 'epochs': 300, 'time': None, 'patience': 10, 'batch': 4, 'imgsz': 1408, 'save': True, 'save_period': -1, 'cache': None, 'device': 'cuda:0', 'workers': 4, 'project': None, 'name': 'roboflow_train', 'exist_ok': False, 'pretrained': True, 'optimizer': 'auto', 'verbose': True, 'seed': 0, 'deterministic': True, 'single_cls': False, 'rect': False, 'cos_lr': False, 'close_mosaic': 300, 'resume': 'runs/detect/roboflow_train/weights/best.cache.pt', 'amp': True, 'fraction': 1.0, 'profile': False, 'freeze': None, 'multi_scale': False, 'overlap_mask': False, 'mask_ratio': 4, 'dropout': 0.0, 'val': True, 'split': 'val', 'save_json': False, 'save_hybrid': False, 'conf': None, 'iou': 0.7, 'max_det': 300, 'half': False, 'dnn': False, 'plots': True, 'source': None, 'vid_stride': 1, 'stream_buffer': False, 'visualize': False, 'augment': False, 'agnostic_nms': False, 'classes': None, 'retina_masks': False, 'embed': None, 'show': False, 'save_frames': False, 'save_txt': False, 'save_conf': False, 'save_crop': False, 'show_labels': True, 'show_conf': True, 'show_boxes': True, 'line_width': None, 'format': 'torchscript', 'keras': False, 'optimize': False, 'int8': False, 'dynamic': False, 'simplify': True, 'opset': None, 'workspace': 4, 'nms': False, 'lr0': 0.01, 'lrf': 0.01, 'momentum': 0.937, 'weight_decay': 0.0005, 'warmup_epochs': 3.0, 'warmup_momentum': 0.8, 'warmup_bias_lr': 0.0, 'box': 7.5, 'cls': 0.5, 'dfl': 1.5, 'pose': 12.0, 'kobj': 1.0, 'label_smoothing': 0.0, 'nbs': 64, 'hsv_h': 0.0, 'hsv_s': 0.0, 'hsv_v': 0.0, 'degrees': 0.0, 'translate': 0.0, 'scale': 0.0, 'shear': 0.0, 'perspective': 0.0, 'flipud': 0.0, 'fliplr': 0.0, 'bgr': 0.0, 'mosaic': 0.0, 'mixup': 0.0, 'copy_paste': 0.0, 'copy_paste_mode': 'flip', 'auto_augment': 'randaugment', 'erasing': 0.4, 'crop_fraction': 1.0, 'cfg': None, 'tracker': 'botsort.yaml'}\n"
     ]
    }
   ],
   "source": [
    "print(model['train_args'])"
   ]
  },
  {
   "cell_type": "code",
   "execution_count": 77,
   "id": "db47050b-8c28-4096-9cd1-2696684f5850",
   "metadata": {},
   "outputs": [
    {
     "name": "stdout",
     "output_type": "stream",
     "text": [
      "https://docs.ultralytics.com\n"
     ]
    }
   ],
   "source": [
    "print(model['docs'])"
   ]
  },
  {
   "cell_type": "code",
   "execution_count": null,
   "id": "d6debb7a-34ba-45d6-8ef0-f689a0f13c97",
   "metadata": {},
   "outputs": [
    {
     "name": "stdout",
     "output_type": "stream",
     "text": [
      "FLOPs: 52.08 GFLOPs\n",
      "Parametre: 9.26 miliónov\n"
     ]
    }
   ],
   "source": [
    "model = YOLO(\"/home/jovyan/data/lightning/LiviaMurankova/new/namnozene_meteory/najlepsie_modely/najlepsie_modely/yolov12_vacsie_obrazky.pt\")\n",
    "\n",
    "model.eval()\n",
    "\n",
    "# Dummy input of size 1408 x 1408\n",
    "dummy_input = torch.randn(1, 3, 1408, 1408)\n",
    "\n",
    "flops, params = profile(model.model, inputs=(dummy_input,), verbose=False)\n",
    "\n",
    "print(f\"FLOPs: {flops / 1e9:.2f} GFLOPs\")\n",
    "print(f\"Parametre: {params / 1e6:.2f} miliónov\")"
   ]
  },
  {
   "cell_type": "code",
   "execution_count": null,
   "id": "3d86939d-d02c-49b0-98ba-f31e6bc6010a",
   "metadata": {},
   "outputs": [
    {
     "name": "stdout",
     "output_type": "stream",
     "text": [
      "88\n"
     ]
    }
   ],
   "source": [
    "model = torch.load(\"/home/jovyan/data/lightning/LiviaMurankova/new/namnozene_meteory/najlepsie_modely/najlepsie_modely/yolov11_vacsie_obrazky.pt\", map_location=torch.device(\"cpu\"))\n",
    "\n",
    "def count_conv_layers(model):\n",
    "    conv_count = sum(1 for layer in model.modules() if isinstance(layer, nn.Conv2d))\n",
    "    return conv_count\n",
    "\n",
    "conv_layers_count = count_conv_layers(model['model'])\n",
    "print(conv_layers_count)"
   ]
  },
  {
   "cell_type": "code",
   "execution_count": null,
   "id": "3d4cdbf4-fc10-492d-bc6f-f36838397a86",
   "metadata": {},
   "outputs": [
    {
     "name": "stdout",
     "output_type": "stream",
     "text": [
      "Počet konvolučných vrstiev: 40\n"
     ]
    }
   ],
   "source": [
    "model = timm.create_model(\"convnext_small\", pretrained=True, num_classes=1)\n",
    "\n",
    "model_path = \"/home/jovyan/data/lightning/LiviaMurankova/new/namnozene_meteory/najlepsie_modely/najlepsie_modely/datasetv2_best_convnext_model_v5.pth\"\n",
    "state_dict = torch.load(model_path, map_location=torch.device(\"cpu\"))\n",
    "\n",
    "# get rid of bias\n",
    "state_dict.pop(\"classifier.bias\", None)\n",
    "\n",
    "# load weights\n",
    "model.load_state_dict(state_dict, strict=False)\n",
    "\n",
    "def count_conv_layers(model):\n",
    "    return sum(1 for layer in model.modules() if isinstance(layer, torch.nn.Conv2d))\n",
    "\n",
    "conv_layers_count = count_conv_layers(model)\n",
    "print(f\"Počet konvolučných vrstiev: {conv_layers_count}\")\n"
   ]
  },
  {
   "cell_type": "code",
   "execution_count": null,
   "id": "ee46f287-caaf-40a9-94b4-785a351b9236",
   "metadata": {},
   "outputs": [
    {
     "data": {
      "application/vnd.jupyter.widget-view+json": {
       "model_id": "2e9ef3e0be714de8a04ee46d002ca53b",
       "version_major": 2,
       "version_minor": 0
      },
      "text/plain": [
       "model.safetensors:   0%|          | 0.00/77.9M [00:00<?, ?B/s]"
      ]
     },
     "metadata": {},
     "output_type": "display_data"
    },
    {
     "name": "stdout",
     "output_type": "stream",
     "text": [
      "EfficientNet-B4: 17.55M parametrov\n",
      "ConvNeXt-Small: 49.46M parametrov\n"
     ]
    }
   ],
   "source": [
    "def count_parameters(model):\n",
    "    return sum(p.numel() for p in model.parameters() if p.requires_grad)\n",
    "\n",
    "# EfficientNet-B4\n",
    "model_effnet = timm.create_model(\"efficientnet_b4\", pretrained=True, num_classes=1)\n",
    "print(f\"EfficientNet-B4: {count_parameters(model_effnet) / 1e6:.2f}M parametrov\")\n",
    "\n",
    "# ConvNeXt-Small\n",
    "model_convnext = timm.create_model(\"convnext_small\", pretrained=True, num_classes=1)\n",
    "print(f\"ConvNeXt-Small: {count_parameters(model_convnext) / 1e6:.2f}M parametrov\")"
   ]
  },
  {
   "cell_type": "code",
   "execution_count": null,
   "id": "66181031-3715-406c-b186-dad7924b98d4",
   "metadata": {},
   "outputs": [
    {
     "name": "stdout",
     "output_type": "stream",
     "text": [
      "[INFO] Register count_convNd() for <class 'torch.nn.modules.conv.Conv2d'>.\n",
      "[INFO] Register zero_ops() for <class 'torch.nn.modules.container.Sequential'>.\n",
      "[INFO] Register count_adap_avgpool() for <class 'torch.nn.modules.pooling.AdaptiveAvgPool2d'>.\n",
      "[INFO] Register count_linear() for <class 'torch.nn.modules.linear.Linear'>.\n"
     ]
    },
    {
     "name": "stderr",
     "output_type": "stream",
     "text": [
      "[W409 19:38:26.495242584 NNPACK.cpp:62] Could not initialize NNPACK! Reason: Unsupported hardware.\n"
     ]
    },
    {
     "name": "stdout",
     "output_type": "stream",
     "text": [
      "[INFO] Register count_convNd() for <class 'torch.nn.modules.conv.Conv2d'>.\n",
      "[INFO] Register zero_ops() for <class 'torch.nn.modules.container.Sequential'>.\n",
      "[INFO] Register count_linear() for <class 'torch.nn.modules.linear.Linear'>.\n",
      "[INFO] Register zero_ops() for <class 'torch.nn.modules.dropout.Dropout'>.\n",
      "[INFO] Register count_adap_avgpool() for <class 'torch.nn.modules.pooling.AdaptiveAvgPool2d'>.\n",
      "EfficientNet-B4: 15.75 GFLOPs, 19.22M parametrov\n",
      "ConvNeXt-Small: 89.37 GFLOPs, 50.18M parametrov\n"
     ]
    }
   ],
   "source": [
    "\n",
    "\n",
    "efficientnet_b4 = timm.create_model(\"efficientnet_b4\", pretrained=False)\n",
    "convnext_small = timm.create_model(\"convnext_small\", pretrained=False)\n",
    "\n",
    "# Input tensor of size (1, 3, 720, 720)\n",
    "input_tensor = torch.randn(1, 3, 720, 720)\n",
    "\n",
    "# Count FLOPs and params\n",
    "flops_efficientnet, params_efficientnet = profile(efficientnet_b4, inputs=(input_tensor,))\n",
    "flops_convnext, params_convnext = profile(convnext_small, inputs=(input_tensor,))\n",
    "\n",
    "print(f\"EfficientNet-B4: {flops_efficientnet / 1e9:.2f} GFLOPs, {params_efficientnet / 1e6:.2f}M parametrov\")\n",
    "print(f\"ConvNeXt-Small: {flops_convnext / 1e9:.2f} GFLOPs, {params_convnext / 1e6:.2f}M parametrov\")"
   ]
  },
  {
   "cell_type": "code",
   "execution_count": null,
   "id": "c15cf292-4562-4895-b8d1-f3d078c3061e",
   "metadata": {},
   "outputs": [
    {
     "name": "stdout",
     "output_type": "stream",
     "text": [
      "Počet parametrov: 9,299,684 (9.30 milióna)\n"
     ]
    }
   ],
   "source": [
    "weights_path = \"/home/jovyan/data/lightning/LiviaMurankova/new/namnozene_meteory/najlepsie_modely/najlepsie_modely/yolov12_vacsie_obrazky.pt\"\n",
    "checkpoint = torch.load(weights_path, map_location='cpu')\n",
    "\n",
    "# model weights\n",
    "state_dict = checkpoint['model'].state_dict()\n",
    "\n",
    "total_params = sum(p.numel() for p in state_dict.values())\n",
    "print(f\"Počet parametrov: {total_params:,} ({total_params / 1e6:.2f} milióna)\")\n"
   ]
  },
  {
   "cell_type": "code",
   "execution_count": null,
   "id": "c78db635-a89d-4f34-83b6-3ad8252fb4bb",
   "metadata": {},
   "outputs": [
    {
     "name": "stdout",
     "output_type": "stream",
     "text": [
      "FLOPs: 1.60 GFLOPs\n",
      "Parametre: 39.42 miliónov\n"
     ]
    }
   ],
   "source": [
    "# SE Block\n",
    "class SEBlock(nn.Module):\n",
    "    def __init__(self, in_channels, reduction=16):\n",
    "        super(SEBlock, self).__init__()\n",
    "        self.pool = nn.AdaptiveAvgPool2d(1)\n",
    "        self.fc = nn.Sequential(\n",
    "            nn.Linear(in_channels, in_channels // reduction),\n",
    "            nn.ReLU(),\n",
    "            nn.Linear(in_channels // reduction, in_channels),\n",
    "            nn.Sigmoid()\n",
    "        )\n",
    "\n",
    "    def forward(self, x):\n",
    "        b, c, _, _ = x.size()\n",
    "        y = self.pool(x).view(b, c)\n",
    "        y = self.fc(y).view(b, c, 1, 1)\n",
    "        return x * y\n",
    "\n",
    "# CNN model w SE blocks\n",
    "class CNNModel(nn.Module):\n",
    "    def __init__(self):\n",
    "        super(CNNModel, self).__init__()\n",
    "        self.conv1 = nn.Conv2d(3, 32, 3, padding=1)\n",
    "        self.se1 = SEBlock(32)\n",
    "        self.conv2 = nn.Conv2d(32, 64, 3, padding=1)\n",
    "        self.se2 = SEBlock(64)\n",
    "        self.conv3 = nn.Conv2d(64, 128, 3, padding=1)\n",
    "        self.se3 = SEBlock(128)\n",
    "        self.dropout = nn.Dropout(0.3)\n",
    "\n",
    "        # count input size - conv + pool\n",
    "        sample_input = torch.randn(1, 3, 320, 480)\n",
    "        with torch.no_grad():\n",
    "            feature_size = self._get_feature_map_size(sample_input)\n",
    "\n",
    "        self.fc1 = nn.Linear(feature_size, 128)\n",
    "        self.fc2 = nn.Linear(128, 1)\n",
    "\n",
    "    def _get_feature_map_size(self, x):\n",
    "        x = torch.relu(self.conv1(x))\n",
    "        x = self.se1(x)\n",
    "        x = torch.max_pool2d(x, 2)\n",
    "        x = torch.relu(self.conv2(x))\n",
    "        x = self.se2(x)\n",
    "        x = torch.max_pool2d(x, 2)\n",
    "        x = torch.relu(self.conv3(x))\n",
    "        x = self.se3(x)\n",
    "        x = torch.max_pool2d(x, 2)\n",
    "        return x.view(1, -1).size(1)\n",
    "\n",
    "    def forward(self, x):\n",
    "        x = torch.relu(self.conv1(x))\n",
    "        x = self.se1(x)\n",
    "        x = torch.max_pool2d(x, 2)\n",
    "        x = torch.relu(self.conv2(x))\n",
    "        x = self.se2(x)\n",
    "        x = torch.max_pool2d(x, 2)\n",
    "        x = torch.relu(self.conv3(x))\n",
    "        x = self.se3(x)\n",
    "        x = torch.max_pool2d(x, 2)\n",
    "        x = x.view(x.size(0), -1)\n",
    "        x = self.dropout(x)\n",
    "        x = torch.relu(self.fc1(x))\n",
    "        return torch.sigmoid(self.fc2(x))\n",
    "\n",
    "model = CNNModel()\n",
    "model.eval()\n",
    "\n",
    "dummy_input = torch.randn(1, 3, 480, 480)\n",
    "\n",
    "flops, params = profile(model, inputs=(dummy_input,), verbose=False)\n",
    "\n",
    "print(f\"FLOPs: {flops / 1e9:.2f} GFLOPs\")\n",
    "print(f\"Parametre: {params / 1e6:.2f} miliónov\")"
   ]
  },
  {
   "cell_type": "code",
   "execution_count": null,
   "id": "a8583acb-5a36-4df4-adfa-8c2ad3951685",
   "metadata": {},
   "outputs": [],
   "source": []
  }
 ],
 "metadata": {
  "kernelspec": {
   "display_name": "Python 3 (ipykernel)",
   "language": "python",
   "name": "python3"
  },
  "language_info": {
   "codemirror_mode": {
    "name": "ipython",
    "version": 3
   },
   "file_extension": ".py",
   "mimetype": "text/x-python",
   "name": "python",
   "nbconvert_exporter": "python",
   "pygments_lexer": "ipython3",
   "version": "3.12.8"
  }
 },
 "nbformat": 4,
 "nbformat_minor": 5
}
