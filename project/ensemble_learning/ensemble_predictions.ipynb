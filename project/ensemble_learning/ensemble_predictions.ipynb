{
 "cells": [
  {
   "cell_type": "markdown",
   "id": "4ee2524a-058d-42b0-b40c-b0fab1be7213",
   "metadata": {},
   "source": [
    "# Ensemble predictions"
   ]
  },
  {
   "cell_type": "code",
   "execution_count": 1,
   "id": "b857d5c7-bb77-4bb4-ae72-84bbb5c965bc",
   "metadata": {},
   "outputs": [
    {
     "name": "stdout",
     "output_type": "stream",
     "text": [
      "Používam zariadenie: cuda\n"
     ]
    },
    {
     "name": "stderr",
     "output_type": "stream",
     "text": [
      "🔍 Spracovanie obrázkov: 100%|██████████| 924/924 [01:48<00:00,  8.52it/s]"
     ]
    },
    {
     "name": "stdout",
     "output_type": "stream",
     "text": [
      "\n",
      "✅ CSV súbor `predictions_yolov11_convnext.csv` bol úspešne vytvorený.\n",
      "\n",
      "✅ Váhy použité pre ensemble:\n",
      "convnexts: 0.5424\n",
      "yolov11: 0.4576\n",
      "\n",
      "📊 Správa klasifikácie (ensemble):\n",
      "              precision    recall  f1-score   support\n",
      "\n",
      "           0     0.9589    0.9352    0.9469       324\n",
      "           1     0.9655    0.9783    0.9719       600\n",
      "\n",
      "    accuracy                         0.9632       924\n",
      "   macro avg     0.9622    0.9568    0.9594       924\n",
      "weighted avg     0.9631    0.9632    0.9631       924\n",
      "\n",
      "\n",
      "✅ Výsledný súbor s ensemble predikciami uložený ako `final_predictions_with_ensemble.csv`.\n"
     ]
    },
    {
     "name": "stderr",
     "output_type": "stream",
     "text": [
      "\n"
     ]
    }
   ],
   "source": [
    "import os\n",
    "import torch\n",
    "import pandas as pd\n",
    "from tqdm import tqdm\n",
    "from PIL import Image\n",
    "from torchvision import transforms\n",
    "from ultralytics import YOLO\n",
    "import timm\n",
    "import torch.nn as nn\n",
    "from sklearn.metrics import classification_report\n",
    "\n",
    "# Cesty\n",
    "test_images_dir = \"/home/jovyan/data/lightning/LiviaMurankova/new/namnozene_meteory/najlepsie_modely/vyhodnotenie/test/images\"\n",
    "test_labels_dir_classification = \"/home/jovyan/data/lightning/LiviaMurankova/new/namnozene_meteory/najlepsie_modely/vyhodnotenie/test/labels\"\n",
    "\n",
    "model_path_convnext = \"/home/jovyan/data/lightning/LiviaMurankova/new/namnozene_meteory/ConvNext-Small/datasetv2_best_convnext_model_v65_epocha2.pth\"\n",
    "model_path_yolov11 = \"/home/jovyan/data/lightning/LiviaMurankova/new/namnozene_meteory/najlepsie_modely/najlepsie_modely/yolov11_vacsie_obrazky.pt\"\n",
    "\n",
    "# Device\n",
    "device = torch.device(\"cuda\" if torch.cuda.is_available() else \"cpu\")\n",
    "print(f\"Používam zariadenie: {device}\")\n",
    "\n",
    "# Transformácie\n",
    "transform = transforms.Compose([\n",
    "    transforms.Resize((720, 720)),\n",
    "    transforms.ToTensor(),\n",
    "    transforms.Normalize(mean=[0.485, 0.456, 0.406], std=[0.229, 0.224, 0.225]),\n",
    "])\n",
    "\n",
    "# Načítanie modelu ConvNeXt-Small\n",
    "convnext_model = timm.create_model(\"convnext_small\", pretrained=False, num_classes=1).to(device)\n",
    "convnext_model.classifier = nn.Sequential(\n",
    "    nn.Dropout(0.5),\n",
    "    nn.Linear(convnext_model.num_features, 1)\n",
    ")\n",
    "convnext_model.load_state_dict(torch.load(model_path_convnext, map_location=device))\n",
    "convnext_model.eval()\n",
    "\n",
    "def predict_convnext(image_path):\n",
    "    image = Image.open(image_path).convert('RGB')\n",
    "    image = transform(image).unsqueeze(0).to(device)\n",
    "    with torch.no_grad():\n",
    "        output = torch.sigmoid(convnext_model(image))\n",
    "        return output.item()\n",
    "\n",
    "# Načítanie modelu YOLOv11\n",
    "yolo_model_11 = YOLO(model_path_yolov11).to(device)\n",
    "yolo_model_11.eval()\n",
    "\n",
    "def predict_yolo(image_path, model, threshold=0.0):\n",
    "    with torch.no_grad():\n",
    "        results = model(image_path, verbose=False)\n",
    "        detections = results[0].boxes\n",
    "    confidences = [det[4] for det in detections.data.cpu().numpy() if det[4] > threshold]\n",
    "    return max(confidences) if confidences else 0.0\n",
    "\n",
    "# Načítanie true labelu\n",
    "def get_true_label(label_path):\n",
    "    if os.path.exists(label_path):\n",
    "        with open(label_path, \"r\") as f:\n",
    "            content = f.read().strip()\n",
    "        return 1 if content.startswith(\"0\") else 0\n",
    "    return 0\n",
    "\n",
    "# Predikcie\n",
    "results = []\n",
    "image_files = sorted([\n",
    "    f for f in os.listdir(test_images_dir)\n",
    "    if os.path.isfile(os.path.join(test_images_dir, f)) and f.lower().endswith(('.jpg', '.jpeg', '.png'))\n",
    "])\n",
    "\n",
    "for img_name in tqdm(image_files, desc=\"🔍 Spracovanie obrázkov\"):\n",
    "    img_path = os.path.join(test_images_dir, img_name)\n",
    "    label_path = os.path.join(test_labels_dir_classification, img_name.replace(\".jpg\", \".txt\"))\n",
    "\n",
    "    true_label = get_true_label(label_path)\n",
    "    pred_convnext = predict_convnext(img_path)\n",
    "    pred_yolo11 = predict_yolo(img_path, yolo_model_11)\n",
    "\n",
    "    results.append([img_name, true_label, pred_convnext, pred_yolo11])\n",
    "\n",
    "# Uloženie CSV\n",
    "df = pd.DataFrame(results, columns=[\"image_name\", \"true_label\", \"prediction_ConvNexts\", \"prediction_yolov11\"])\n",
    "output_csv = \"predictions_yolov11_convnext.csv\"\n",
    "df.to_csv(output_csv, index=False)\n",
    "print(f\"\\n✅ CSV súbor `{output_csv}` bol úspešne vytvorený.\")\n",
    "\n",
    "# Ensemble výpočet\n",
    "weights = {\n",
    "    'convnexts': 0.5424,\n",
    "    'yolov11': 0.4576\n",
    "}\n",
    "\n",
    "df[\"ensemble_probability\"] = (\n",
    "    df[\"prediction_ConvNexts\"] * weights[\"convnexts\"] +\n",
    "    df[\"prediction_yolov11\"] * weights[\"yolov11\"]\n",
    ")\n",
    "\n",
    "threshold = 0.441\n",
    "df[\"ensemble_prediction\"] = (df[\"ensemble_probability\"] >= threshold).astype(int)\n",
    "\n",
    "# Výpis metrík\n",
    "print(\"\\n✅ Váhy použité pre ensemble:\")\n",
    "for model, w in weights.items():\n",
    "    print(f\"{model}: {w:.4f}\")\n",
    "\n",
    "print(\"\\n📊 Správa klasifikácie (ensemble):\")\n",
    "print(classification_report(df[\"true_label\"], df[\"ensemble_prediction\"], digits=4))\n",
    "\n",
    "# Uloženie finálneho CSV\n",
    "final_csv = \"final_predictions_with_ensemble.csv\"\n",
    "df.to_csv(final_csv, index=False)\n",
    "print(f\"\\n✅ Výsledný súbor s ensemble predikciami uložený ako `{final_csv}`.\")"
   ]
  },
  {
   "cell_type": "code",
   "execution_count": 4,
   "id": "a41a7bc7-ba8d-445e-b620-ba355cdf5f1d",
   "metadata": {},
   "outputs": [
    {
     "name": "stdout",
     "output_type": "stream",
     "text": [
      "🔍 Verzie použitých knižníc:\n",
      "torch:           2.6.0+cu124\n",
      "torchvision:     0.21.0+cu124\n",
      "timm:            1.0.15\n",
      "ultralytics:     8.3.102\n",
      "PIL (Pillow):    11.1.0\n",
      "numpy:           1.26.4\n",
      "argparse:        built-in\n",
      "Python version:  3.12.8 | packaged by conda-forge | (main, Dec  5 2024, 14:24:40) [GCC 13.3.0]\n"
     ]
    }
   ],
   "source": [
    "import torch\n",
    "import torchvision\n",
    "import timm\n",
    "import ultralytics\n",
    "import PIL\n",
    "import numpy\n",
    "import argparse\n",
    "import sys\n",
    "\n",
    "print(\"🔍 Verzie použitých knižníc:\")\n",
    "print(f\"torch:           {torch.__version__}\")\n",
    "print(f\"torchvision:     {torchvision.__version__}\")\n",
    "print(f\"timm:            {timm.__version__}\")\n",
    "print(f\"ultralytics:     {ultralytics.__version__}\")\n",
    "print(f\"PIL (Pillow):    {PIL.__version__}\")\n",
    "print(f\"numpy:           {numpy.__version__}\")\n",
    "print(f\"argparse:        built-in\")\n",
    "print(f\"Python version:  {sys.version}\")\n"
   ]
  },
  {
   "cell_type": "code",
   "execution_count": 6,
   "id": "543c09ec-b5f0-4e39-9f49-06dd49413cef",
   "metadata": {},
   "outputs": [],
   "source": [
    "torch.save(convnext_model.state_dict(), \"convnext_model_legacy.pth\", _use_new_zipfile_serialization=False)\n"
   ]
  },
  {
   "cell_type": "code",
   "execution_count": null,
   "id": "3d390273-732e-4e7f-a245-2dfda1788c3a",
   "metadata": {},
   "outputs": [],
   "source": []
  }
 ],
 "metadata": {
  "kernelspec": {
   "display_name": "Python 3 (ipykernel)",
   "language": "python",
   "name": "python3"
  },
  "language_info": {
   "codemirror_mode": {
    "name": "ipython",
    "version": 3
   },
   "file_extension": ".py",
   "mimetype": "text/x-python",
   "name": "python",
   "nbconvert_exporter": "python",
   "pygments_lexer": "ipython3",
   "version": "3.12.8"
  }
 },
 "nbformat": 4,
 "nbformat_minor": 5
}
